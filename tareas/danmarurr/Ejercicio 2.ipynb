{
 "cells": [
  {
   "cell_type": "markdown",
   "metadata": {},
   "source": [
    "# Ejercicio 2\n",
    "\n",
    "## Daniel Martínez, Fernanda Perez\n",
    "\n",
    "- **¿Qué pasa?**\n",
    "\n",
    "`git` muestra un error:\n",
    "\n",
    "```\n",
    " ! [rejected]        master -> master (fetch first)\n",
    " error: failed to push some refs to 'https://github.com/FernandaPerez/2016-2_TSFisicaComputacional.git'\n",
    " consejo: Updates were rejected because the remote contains work that you do\n",
    " consejo: not have locally. This is usually caused by another repository pushing\n",
    " consejo: to the same ref. You may want to first integrate the remote changes\n",
    " consejo: (e.g., 'git pull ...') before pushing again.\n",
    " consejo: See the 'Note about fast-forwards' in 'git push --help' for details.\n",
    " ```\n",
    "\n"
   ]
  },
  {
   "cell_type": "markdown",
   "metadata": {},
   "source": [
    " - **¿Qué hacer para mantener ambas contribuciones, preservando el autor de cada una?**\n",
    " \n",
    " Se tuvo que crear dos ramas: `Rama_de_Daniel` y `Rama_de_Fernanda` mediante la instrucción\n",
    " \n",
    " `git checkout -b \"Rama_de_Daniel\"`\n",
    " \n",
    " `git checkout -b \"Rama_de_Fernanda\"`\n",
    " \n",
    " \n",
    " Una vez que estuvimos de acuerdo con los cambios hechos por Daniel, fusionamos su rama con la rama `master`:\n",
    " ```\n",
    " > git checkout master\n",
    " > git marge Rama_de_Daniel\n",
    " ```\n",
    " El resultado puede verse en la página."
   ]
  },
  {
   "cell_type": "code",
   "execution_count": null,
   "metadata": {
    "collapsed": true
   },
   "outputs": [],
   "source": []
  }
 ],
 "metadata": {
  "kernelspec": {
   "display_name": "Julia 0.5.0-dev",
   "language": "julia",
   "name": "julia-0.5"
  },
  "language_info": {
   "file_extension": ".jl",
   "mimetype": "application/julia",
   "name": "julia",
   "version": "0.5.0"
  }
 },
 "nbformat": 4,
 "nbformat_minor": 0
}
